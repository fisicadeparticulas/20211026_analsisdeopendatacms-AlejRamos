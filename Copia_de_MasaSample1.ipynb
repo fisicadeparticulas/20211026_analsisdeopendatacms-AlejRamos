{
  "nbformat": 4,
  "nbformat_minor": 0,
  "metadata": {
    "colab": {
      "name": "Copia de MasaSample1.ipynb",
      "provenance": [],
      "include_colab_link": true
    },
    "kernelspec": {
      "name": "python3",
      "display_name": "Python 3"
    },
    "language_info": {
      "name": "python"
    }
  },
  "cells": [
    {
      "cell_type": "markdown",
      "metadata": {
        "id": "view-in-github",
        "colab_type": "text"
      },
      "source": [
        "<a href=\"https://colab.research.google.com/github/fisicadeparticulas/20211026_analsisdeopendatacms-AlejRamos/blob/main/Copia_de_MasaSample1.ipynb\" target=\"_parent\"><img src=\"https://colab.research.google.com/assets/colab-badge.svg\" alt=\"Open In Colab\"/></a>"
      ]
    },
    {
      "cell_type": "code",
      "metadata": {
        "colab": {
          "base_uri": "https://localhost:8080/",
          "height": 203
        },
        "id": "z_IZVwd-J0MV",
        "outputId": "af88c5f2-6120-485d-f73c-0e0c3924db2c"
      },
      "source": [
        "import pandas as pd\n",
        "import numpy as np\n",
        "import matplotlib.pyplot as plt\n",
        "\n",
        "archivo = pd.read_csv(\"https://goo.gl/sp8gYx\")\n",
        "archivo.head()"
      ],
      "execution_count": null,
      "outputs": [
        {
          "output_type": "execute_result",
          "data": {
            "text/html": [
              "<div>\n",
              "<style scoped>\n",
              "    .dataframe tbody tr th:only-of-type {\n",
              "        vertical-align: middle;\n",
              "    }\n",
              "\n",
              "    .dataframe tbody tr th {\n",
              "        vertical-align: top;\n",
              "    }\n",
              "\n",
              "    .dataframe thead th {\n",
              "        text-align: right;\n",
              "    }\n",
              "</style>\n",
              "<table border=\"1\" class=\"dataframe\">\n",
              "  <thead>\n",
              "    <tr style=\"text-align: right;\">\n",
              "      <th></th>\n",
              "      <th>Run</th>\n",
              "      <th>Event</th>\n",
              "      <th>type1</th>\n",
              "      <th>Q1</th>\n",
              "      <th>pt1</th>\n",
              "      <th>eta1</th>\n",
              "      <th>phi1</th>\n",
              "      <th>E1</th>\n",
              "      <th>px1</th>\n",
              "      <th>py1</th>\n",
              "      <th>pz1</th>\n",
              "      <th>type2</th>\n",
              "      <th>Q2</th>\n",
              "      <th>pt2</th>\n",
              "      <th>eta2</th>\n",
              "      <th>phi2</th>\n",
              "      <th>E2</th>\n",
              "      <th>px2</th>\n",
              "      <th>py2</th>\n",
              "      <th>pz2</th>\n",
              "      <th>M</th>\n",
              "    </tr>\n",
              "  </thead>\n",
              "  <tbody>\n",
              "    <tr>\n",
              "      <th>0</th>\n",
              "      <td>166699</td>\n",
              "      <td>835716681</td>\n",
              "      <td>G</td>\n",
              "      <td>1</td>\n",
              "      <td>4.2116</td>\n",
              "      <td>2.2366</td>\n",
              "      <td>-0.4849</td>\n",
              "      <td>19.9382</td>\n",
              "      <td>3.7261</td>\n",
              "      <td>-1.9631</td>\n",
              "      <td>19.4881</td>\n",
              "      <td>T</td>\n",
              "      <td>-1</td>\n",
              "      <td>1.2556</td>\n",
              "      <td>2.2683</td>\n",
              "      <td>-1.4488</td>\n",
              "      <td>6.1319</td>\n",
              "      <td>0.1528</td>\n",
              "      <td>-1.2463</td>\n",
              "      <td>6.0011</td>\n",
              "      <td>2.1330</td>\n",
              "    </tr>\n",
              "    <tr>\n",
              "      <th>1</th>\n",
              "      <td>166699</td>\n",
              "      <td>836133459</td>\n",
              "      <td>G</td>\n",
              "      <td>-1</td>\n",
              "      <td>2.1479</td>\n",
              "      <td>-2.0159</td>\n",
              "      <td>-2.7753</td>\n",
              "      <td>8.2066</td>\n",
              "      <td>-2.0055</td>\n",
              "      <td>-0.7692</td>\n",
              "      <td>-7.9199</td>\n",
              "      <td>G</td>\n",
              "      <td>1</td>\n",
              "      <td>19.5453</td>\n",
              "      <td>-1.0826</td>\n",
              "      <td>-0.3408</td>\n",
              "      <td>32.1613</td>\n",
              "      <td>18.4210</td>\n",
              "      <td>-6.5332</td>\n",
              "      <td>-25.5406</td>\n",
              "      <td>13.6786</td>\n",
              "    </tr>\n",
              "    <tr>\n",
              "      <th>2</th>\n",
              "      <td>166699</td>\n",
              "      <td>836165498</td>\n",
              "      <td>G</td>\n",
              "      <td>1</td>\n",
              "      <td>21.0732</td>\n",
              "      <td>1.5948</td>\n",
              "      <td>-1.1137</td>\n",
              "      <td>54.0560</td>\n",
              "      <td>9.2997</td>\n",
              "      <td>-18.9102</td>\n",
              "      <td>49.7791</td>\n",
              "      <td>T</td>\n",
              "      <td>-1</td>\n",
              "      <td>2.3864</td>\n",
              "      <td>1.5352</td>\n",
              "      <td>-1.7388</td>\n",
              "      <td>5.7968</td>\n",
              "      <td>-0.3991</td>\n",
              "      <td>-2.3528</td>\n",
              "      <td>5.2818</td>\n",
              "      <td>4.3813</td>\n",
              "    </tr>\n",
              "    <tr>\n",
              "      <th>3</th>\n",
              "      <td>166699</td>\n",
              "      <td>836249706</td>\n",
              "      <td>G</td>\n",
              "      <td>1</td>\n",
              "      <td>18.5889</td>\n",
              "      <td>1.6422</td>\n",
              "      <td>1.1923</td>\n",
              "      <td>49.8180</td>\n",
              "      <td>6.8688</td>\n",
              "      <td>17.2734</td>\n",
              "      <td>46.2199</td>\n",
              "      <td>G</td>\n",
              "      <td>-1</td>\n",
              "      <td>1.8721</td>\n",
              "      <td>1.9704</td>\n",
              "      <td>1.6393</td>\n",
              "      <td>6.8459</td>\n",
              "      <td>-0.1281</td>\n",
              "      <td>1.8678</td>\n",
              "      <td>6.5841</td>\n",
              "      <td>3.2587</td>\n",
              "    </tr>\n",
              "    <tr>\n",
              "      <th>4</th>\n",
              "      <td>166699</td>\n",
              "      <td>835608783</td>\n",
              "      <td>G</td>\n",
              "      <td>-1</td>\n",
              "      <td>11.8194</td>\n",
              "      <td>0.8711</td>\n",
              "      <td>-1.5811</td>\n",
              "      <td>16.5947</td>\n",
              "      <td>-0.1214</td>\n",
              "      <td>-11.8187</td>\n",
              "      <td>11.6479</td>\n",
              "      <td>T</td>\n",
              "      <td>1</td>\n",
              "      <td>0.9408</td>\n",
              "      <td>2.0107</td>\n",
              "      <td>-1.6559</td>\n",
              "      <td>3.5779</td>\n",
              "      <td>-0.0799</td>\n",
              "      <td>-0.9374</td>\n",
              "      <td>3.4504</td>\n",
              "      <td>4.0171</td>\n",
              "    </tr>\n",
              "  </tbody>\n",
              "</table>\n",
              "</div>"
            ],
            "text/plain": [
              "      Run      Event type1  Q1  ...      px2     py2      pz2        M\n",
              "0  166699  835716681     G   1  ...   0.1528 -1.2463   6.0011   2.1330\n",
              "1  166699  836133459     G  -1  ...  18.4210 -6.5332 -25.5406  13.6786\n",
              "2  166699  836165498     G   1  ...  -0.3991 -2.3528   5.2818   4.3813\n",
              "3  166699  836249706     G   1  ...  -0.1281  1.8678   6.5841   3.2587\n",
              "4  166699  835608783     G  -1  ...  -0.0799 -0.9374   3.4504   4.0171\n",
              "\n",
              "[5 rows x 21 columns]"
            ]
          },
          "metadata": {},
          "execution_count": 1
        }
      ]
    },
    {
      "cell_type": "code",
      "metadata": {
        "id": "jypr9MHdKXyA"
      },
      "source": [
        "\"\"\"\n",
        "En estas lineas de codigo creamos un archivo con numpy a partir del CSV\n",
        "\"\"\"\n",
        "Datos = np.genfromtxt(\"https://goo.gl/sp8gYx\", delimiter=\",\", \n",
        "                      names=[\"run\",\"event\",\"type1\",\"Q1\",\"pt1\",\"eta1\",\"phi1\",\"E1\",\"px1\",\"py1\",\"pz1\",\"type2\",\"Q2\",\"pt2\",\"eta2\",\"phi2\",\"E2\",\"px2\",\"py2\",\"pz2\",\"M\"])\n",
        "\n",
        "#A continuación se crean algunas listas, sin embargo este paso puede ser omitido\n",
        "#El motivo de creacion es para simplificar notaciones más adelante pero como veremos\n",
        "# ocupando las listas directamente de los Datos es suficiente\n",
        "px1 = []\n",
        "px1 = Datos[\"px1\"]\n",
        "py1 = []\n",
        "py1 = Datos[\"py1\"]\n",
        "pz1 = []\n",
        "pz1 = Datos[\"pz1\"]\n",
        "px2 = []\n",
        "px2 = Datos[\"px2\"]\n",
        "py2 =[]\n",
        "py2 = Datos[\"py2\"]\n",
        "pz2 = []\n",
        "pz2 = Datos[\"pz2\"]\n",
        "E1 = []\n",
        "E1 = Datos[\"E1\"]\n",
        "E2 = []\n",
        "E2 = Datos[\"E2\"]"
      ],
      "execution_count": null,
      "outputs": []
    },
    {
      "cell_type": "code",
      "metadata": {
        "colab": {
          "base_uri": "https://localhost:8080/",
          "height": 491
        },
        "id": "K0gcNaII5NoB",
        "outputId": "a09418c9-b5e9-4906-b699-54117174fda3"
      },
      "source": [
        "\"\"\"\n",
        "Grafiquemos el momento transversal\n",
        "\"\"\"\n",
        "#Se crea los momentos transversales\n",
        "P_t_1 = np.sqrt(Datos[\"px1\"]**2 + Datos[\"py1\"]**2) #Momento transversal de la particula 1\n",
        "P_t_2 = np.sqrt(Datos[\"px2\"]**2 + Datos[\"py2\"]**2) #Momento transversal de la particula 2\n",
        "\n",
        "#Figura con dos graficas (Los momentos transversales)\n",
        "#Se puede replicar para obtener los momentos transversales de las dos particulas o agregar más subplots para juntarlas\n",
        "plt.figure(figsize=(16,6))\n",
        "plt.subplot(1,2,1)\n",
        "plt.hist(P_t_2) # Histograma del momento transversal reconstruido\n",
        "plt.title(\"Reconstruccion del momento transversal\")\n",
        "plt.subplot(1,2,2) \n",
        "plt.title(\"Momento transversal de los datos\")\n",
        "plt.hist(Datos[\"pt2\"]) #Momento transversal proporcionado en el Sample1\n"
      ],
      "execution_count": null,
      "outputs": [
        {
          "output_type": "execute_result",
          "data": {
            "text/plain": [
              "(array([8.3755e+04, 2.0000e+00, 1.0000e+00, 1.0000e+00, 0.0000e+00,\n",
              "        0.0000e+00, 0.0000e+00, 1.0000e+00, 0.0000e+00, 1.0000e+00]),\n",
              " array([2.54500000e-01, 9.32208050e+02, 1.86416160e+03, 2.79611515e+03,\n",
              "        3.72806870e+03, 4.66002225e+03, 5.59197580e+03, 6.52392935e+03,\n",
              "        7.45588290e+03, 8.38783645e+03, 9.31979000e+03]),\n",
              " <a list of 10 Patch objects>)"
            ]
          },
          "metadata": {},
          "execution_count": 3
        },
        {
          "output_type": "display_data",
          "data": {
            "image/png": "[encoded data removed]",
            "text/plain": [
              "<Figure size 1152x432 with 2 Axes>"
            ]
          },
          "metadata": {
            "needs_background": "light"
          }
        }
      ]
    },
    {
      "cell_type": "code",
      "metadata": {
        "colab": {
          "base_uri": "https://localhost:8080/",
          "height": 454
        },
        "id": "FRSVxTL0LoRb",
        "outputId": "db74c66e-0bba-4e57-c77d-b53af34f2993"
      },
      "source": [
        "\n",
        "E_2 = (E1+E2)**2 #Creo los datos para la energia al cuadrado\n",
        "P_2 = ((px1+px2)**2+(py1+py2)**2+(pz1+pz2)**2) #El momento al cuadrado\n",
        "M2 = E_2-P_2 #Vector con la masa invariante al cuadrado, es posible desde aqui sacar la raiz cuadrada\n",
        "\n",
        "\n",
        "#Creamos una figura que contendra dos graficas (las masas)\n",
        "plt.figure(figsize=(16,6))\n",
        "plt.subplot(1,2,1)\n",
        "plt.hist(np.sqrt(M2)) #Histograma de la masa reconstruida\n",
        "plt.title(\"Masa reconstruida\")\n",
        "plt.xlabel(\"Masa [GeV]\")\n",
        "plt.ylabel(\"Eventos\")\n",
        "plt.subplot(1,2,2)\n",
        "plt.hist(Datos[\"M\"])\n",
        "plt.title(\"Masa de los datos\") #Histograma de la masa dada en el sample1\n",
        "plt.xlabel(\"Masa [GeV]\")\n",
        "plt.ylabel(\"Eventos\")\n"
      ],
      "execution_count": null,
      "outputs": [
        {
          "output_type": "stream",
          "name": "stderr",
          "text": [
            "/usr/local/lib/python3.7/dist-packages/ipykernel_launcher.py:10: RuntimeWarning: invalid value encountered in sqrt\n",
            "  # Remove the CWD from sys.path while we load stuff.\n"
          ]
        },
        {
          "output_type": "execute_result",
          "data": {
            "text/plain": [
              "Text(0, 0.5, 'Eventos')"
            ]
          },
          "metadata": {},
          "execution_count": 7
        },
        {
          "output_type": "display_data",
          "data": {
            "image/png": "[encoded data removed]",
            "text/plain": [
              "<Figure size 1152x432 with 2 Axes>"
            ]
          },
          "metadata": {
            "needs_background": "light"
          }
        }
      ]
    },
    {
      "cell_type": "code",
      "metadata": {
        "id": "87Fd_84S6d3Y",
        "colab": {
          "base_uri": "https://localhost:8080/",
          "height": 35
        },
        "outputId": "5db0b915-fe6c-4f07-a9ef-c8d0f6fdddc0"
      },
      "source": [
        "\"\"\"\n",
        "Graficamos las distribuciones de phi asi como delta Phi\n",
        "\"\"\"\n",
        "\n"
      ],
      "execution_count": null,
      "outputs": [
        {
          "output_type": "execute_result",
          "data": {
            "application/vnd.google.colaboratory.intrinsic+json": {
              "type": "string"
            },
            "text/plain": [
              "'\\nGraficamos las distribuciones de phi asi como delta Phi\\n'"
            ]
          },
          "metadata": {},
          "execution_count": 5
        }
      ]
    }
  ]
}