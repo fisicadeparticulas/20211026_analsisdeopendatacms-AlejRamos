{
  "nbformat": 4,
  "nbformat_minor": 0,
  "metadata": {
    "colab": {
      "name": "Copia de Copia de MasaSample1.ipynb",
      "provenance": [],
      "include_colab_link": true
    },
    "kernelspec": {
      "name": "python3",
      "display_name": "Python 3"
    },
    "language_info": {
      "name": "python"
    }
  },
  "cells": [
    {
      "cell_type": "markdown",
      "metadata": {
        "id": "view-in-github",
        "colab_type": "text"
      },
      "source": [
        "<a href=\"https://colab.research.google.com/github/fisicadeparticulas/20211026_analsisdeopendatacms-AlejRamos/blob/main/Copia_de_Copia_de_MasaSample1.ipynb\" target=\"_parent\"><img src=\"https://colab.research.google.com/assets/colab-badge.svg\" alt=\"Open In Colab\"/></a>"
      ]
    },
    {
      "cell_type": "code",
      "metadata": {
        "colab": {
          "base_uri": "https://localhost:8080/",
          "height": 203
        },
        "id": "z_IZVwd-J0MV",
        "outputId": "99d93406-75dd-4848-953e-30f11e3e4070"
      },
      "source": [
        "import pandas as pd\n",
        "import numpy as np\n",
        "import matplotlib.pyplot as plt\n",
        "\n",
        "archivo = pd.read_csv(\"https://goo.gl/sp8gYx\")\n",
        "archivo.head()"
      ],
      "execution_count": null,
      "outputs": [
        {
          "output_type": "execute_result",
          "data": {
            "text/html": [
              "<div>\n",
              "<style scoped>\n",
              "    .dataframe tbody tr th:only-of-type {\n",
              "        vertical-align: middle;\n",
              "    }\n",
              "\n",
              "    .dataframe tbody tr th {\n",
              "        vertical-align: top;\n",
              "    }\n",
              "\n",
              "    .dataframe thead th {\n",
              "        text-align: right;\n",
              "    }\n",
              "</style>\n",
              "<table border=\"1\" class=\"dataframe\">\n",
              "  <thead>\n",
              "    <tr style=\"text-align: right;\">\n",
              "      <th></th>\n",
              "      <th>Run</th>\n",
              "      <th>Event</th>\n",
              "      <th>type1</th>\n",
              "      <th>Q1</th>\n",
              "      <th>pt1</th>\n",
              "      <th>eta1</th>\n",
              "      <th>phi1</th>\n",
              "      <th>E1</th>\n",
              "      <th>px1</th>\n",
              "      <th>py1</th>\n",
              "      <th>pz1</th>\n",
              "      <th>type2</th>\n",
              "      <th>Q2</th>\n",
              "      <th>pt2</th>\n",
              "      <th>eta2</th>\n",
              "      <th>phi2</th>\n",
              "      <th>E2</th>\n",
              "      <th>px2</th>\n",
              "      <th>py2</th>\n",
              "      <th>pz2</th>\n",
              "      <th>M</th>\n",
              "    </tr>\n",
              "  </thead>\n",
              "  <tbody>\n",
              "    <tr>\n",
              "      <th>0</th>\n",
              "      <td>166699</td>\n",
              "      <td>835716681</td>\n",
              "      <td>G</td>\n",
              "      <td>1</td>\n",
              "      <td>4.2116</td>\n",
              "      <td>2.2366</td>\n",
              "      <td>-0.4849</td>\n",
              "      <td>19.9382</td>\n",
              "      <td>3.7261</td>\n",
              "      <td>-1.9631</td>\n",
              "      <td>19.4881</td>\n",
              "      <td>T</td>\n",
              "      <td>-1</td>\n",
              "      <td>1.2556</td>\n",
              "      <td>2.2683</td>\n",
              "      <td>-1.4488</td>\n",
              "      <td>6.1319</td>\n",
              "      <td>0.1528</td>\n",
              "      <td>-1.2463</td>\n",
              "      <td>6.0011</td>\n",
              "      <td>2.1330</td>\n",
              "    </tr>\n",
              "    <tr>\n",
              "      <th>1</th>\n",
              "      <td>166699</td>\n",
              "      <td>836133459</td>\n",
              "      <td>G</td>\n",
              "      <td>-1</td>\n",
              "      <td>2.1479</td>\n",
              "      <td>-2.0159</td>\n",
              "      <td>-2.7753</td>\n",
              "      <td>8.2066</td>\n",
              "      <td>-2.0055</td>\n",
              "      <td>-0.7692</td>\n",
              "      <td>-7.9199</td>\n",
              "      <td>G</td>\n",
              "      <td>1</td>\n",
              "      <td>19.5453</td>\n",
              "      <td>-1.0826</td>\n",
              "      <td>-0.3408</td>\n",
              "      <td>32.1613</td>\n",
              "      <td>18.4210</td>\n",
              "      <td>-6.5332</td>\n",
              "      <td>-25.5406</td>\n",
              "      <td>13.6786</td>\n",
              "    </tr>\n",
              "    <tr>\n",
              "      <th>2</th>\n",
              "      <td>166699</td>\n",
              "      <td>836165498</td>\n",
              "      <td>G</td>\n",
              "      <td>1</td>\n",
              "      <td>21.0732</td>\n",
              "      <td>1.5948</td>\n",
              "      <td>-1.1137</td>\n",
              "      <td>54.0560</td>\n",
              "      <td>9.2997</td>\n",
              "      <td>-18.9102</td>\n",
              "      <td>49.7791</td>\n",
              "      <td>T</td>\n",
              "      <td>-1</td>\n",
              "      <td>2.3864</td>\n",
              "      <td>1.5352</td>\n",
              "      <td>-1.7388</td>\n",
              "      <td>5.7968</td>\n",
              "      <td>-0.3991</td>\n",
              "      <td>-2.3528</td>\n",
              "      <td>5.2818</td>\n",
              "      <td>4.3813</td>\n",
              "    </tr>\n",
              "    <tr>\n",
              "      <th>3</th>\n",
              "      <td>166699</td>\n",
              "      <td>836249706</td>\n",
              "      <td>G</td>\n",
              "      <td>1</td>\n",
              "      <td>18.5889</td>\n",
              "      <td>1.6422</td>\n",
              "      <td>1.1923</td>\n",
              "      <td>49.8180</td>\n",
              "      <td>6.8688</td>\n",
              "      <td>17.2734</td>\n",
              "      <td>46.2199</td>\n",
              "      <td>G</td>\n",
              "      <td>-1</td>\n",
              "      <td>1.8721</td>\n",
              "      <td>1.9704</td>\n",
              "      <td>1.6393</td>\n",
              "      <td>6.8459</td>\n",
              "      <td>-0.1281</td>\n",
              "      <td>1.8678</td>\n",
              "      <td>6.5841</td>\n",
              "      <td>3.2587</td>\n",
              "    </tr>\n",
              "    <tr>\n",
              "      <th>4</th>\n",
              "      <td>166699</td>\n",
              "      <td>835608783</td>\n",
              "      <td>G</td>\n",
              "      <td>-1</td>\n",
              "      <td>11.8194</td>\n",
              "      <td>0.8711</td>\n",
              "      <td>-1.5811</td>\n",
              "      <td>16.5947</td>\n",
              "      <td>-0.1214</td>\n",
              "      <td>-11.8187</td>\n",
              "      <td>11.6479</td>\n",
              "      <td>T</td>\n",
              "      <td>1</td>\n",
              "      <td>0.9408</td>\n",
              "      <td>2.0107</td>\n",
              "      <td>-1.6559</td>\n",
              "      <td>3.5779</td>\n",
              "      <td>-0.0799</td>\n",
              "      <td>-0.9374</td>\n",
              "      <td>3.4504</td>\n",
              "      <td>4.0171</td>\n",
              "    </tr>\n",
              "  </tbody>\n",
              "</table>\n",
              "</div>"
            ],
            "text/plain": [
              "      Run      Event type1  Q1  ...      px2     py2      pz2        M\n",
              "0  166699  835716681     G   1  ...   0.1528 -1.2463   6.0011   2.1330\n",
              "1  166699  836133459     G  -1  ...  18.4210 -6.5332 -25.5406  13.6786\n",
              "2  166699  836165498     G   1  ...  -0.3991 -2.3528   5.2818   4.3813\n",
              "3  166699  836249706     G   1  ...  -0.1281  1.8678   6.5841   3.2587\n",
              "4  166699  835608783     G  -1  ...  -0.0799 -0.9374   3.4504   4.0171\n",
              "\n",
              "[5 rows x 21 columns]"
            ]
          },
          "metadata": {},
          "execution_count": 39
        }
      ]
    },
    {
      "cell_type": "code",
      "metadata": {
        "id": "jypr9MHdKXyA"
      },
      "source": [
        "\"\"\"\n",
        "En estas lineas de codigo creamos un archivo con numpy a partir del CSV\n",
        "\"\"\"\n",
        "Datos = np.genfromtxt(\"https://goo.gl/sp8gYx\" , delimiter=\",\",\n",
        "                      names=[\"run\",\"event\",\"type1\",\"Q1\",\"pt1\",\"eta1\",\"phi1\",\"E1\",\"px1\",\"py1\",\"pz1\",\"type2\",\"Q2\",\"pt2\",\"eta2\",\"phi2\",\"E2\",\"px2\",\"py2\",\"pz2\",\"M\"])\n",
        "\n",
        "#A continuación se crean algunas listas, sin embargo este paso puede ser omitido\n",
        "#El motivo de creacion es para simplificar notaciones más adelante pero como veremos\n",
        "# ocupando las listas directamente de los Datos es suficiente\n",
        "px1 = []\n",
        "px1 = Datos[\"px1\"]\n",
        "py1 = []\n",
        "py1 = Datos[\"py1\"]\n",
        "pz1 = []\n",
        "pz1 = Datos[\"pz1\"]\n",
        "px2 = []\n",
        "px2 = Datos[\"px2\"]\n",
        "py2 =[]\n",
        "py2 = Datos[\"py2\"]\n",
        "pz2 = []\n",
        "pz2 = Datos[\"pz2\"]\n",
        "E1 = []\n",
        "E1 = Datos[\"E1\"]\n",
        "E2 = []\n",
        "E2 = Datos[\"E2\"]"
      ],
      "execution_count": null,
      "outputs": []
    },
    {
      "cell_type": "code",
      "metadata": {
        "colab": {
          "base_uri": "https://localhost:8080/",
          "height": 780
        },
        "id": "K0gcNaII5NoB",
        "outputId": "eacd494f-fb9c-4d9b-9efc-87bb539b09f7"
      },
      "source": [
        "\"\"\"\n",
        "Grafiquemos el momento transversal\n",
        "\"\"\"\n",
        "#Se crea los momentos transversales\n",
        "P_t_1 = np.sqrt(Datos[\"px1\"]**2 + Datos[\"py1\"]**2) #Momento transversal de la particula 1\n",
        "P_t_2 = np.sqrt(Datos[\"px2\"]**2 + Datos[\"py2\"]**2) #Momento transversal de la particula 2\n",
        "\n",
        "#Figura con dos graficas (Los momentos transversales)\n",
        "#Se puede replicar para obtener los momentos transversales de las dos particulas o agregar más subplots para juntarlas\n",
        "plt.figure(figsize=(16,6))\n",
        "plt.subplot(1,2,1)\n",
        "plt.hist(P_t_2,50) # Histograma del momento transversal reconstruido\n",
        "plt.title(\"Reconstruccion del momento transversal\")\n",
        "plt.subplot(1,2,2) \n",
        "plt.title(\"Momento transversal de los datos\")\n",
        "plt.hist(Datos[\"pt2\"],50) #Momento transversal proporcionado en el Sample1\n",
        "\n",
        "plt.figure(figsize=(16,6))\n",
        "plt.subplot(1,2,1)\n",
        "plt.hist(P_t_2,1000) # Histograma del momento transversal reconstruido\n",
        "plt.title(\"Reconstruccion del momento transversal\")\n",
        "plt.xlim(0,200)\n",
        "plt.subplot(1,2,2) \n",
        "plt.title(\"Momento transversal de los datos\")\n",
        "plt.hist(Datos[\"pt2\"],1000) #Momento transversal proporcionado en el Sample1\n",
        "plt.xlim(0,200)\n",
        "\n",
        "\n"
      ],
      "execution_count": null,
      "outputs": [
        {
          "output_type": "execute_result",
          "data": {
            "text/plain": [
              "(0.0, 200.0)"
            ]
          },
          "metadata": {},
          "execution_count": 41
        },
        {
          "output_type": "display_data",
          "data": {
            "image/png": "[encoded data removed]",
            "text/plain": [
              "<Figure size 1152x432 with 2 Axes>"
            ]
          },
          "metadata": {
            "needs_background": "light"
          }
        },
        {
          "output_type": "display_data",
          "data": {
            "image/png": "[encoded data removed]",
            "text/plain": [
              "<Figure size 1152x432 with 2 Axes>"
            ]
          },
          "metadata": {
            "needs_background": "light"
          }
        }
      ]
    },
    {
      "cell_type": "code",
      "metadata": {
        "id": "eFnPwRZrvk0a",
        "colab": {
          "base_uri": "https://localhost:8080/"
        },
        "outputId": "578a5266-1ca7-4fb0-c915-105f91f7ac75"
      },
      "source": [
        "\"\"\"\n",
        "Por qué el histograma arroja datos de valores tan altos?\n",
        "En esta parte del programa intentaremos averiguar, con unas cuantas lineas de codigo\n",
        "porque da ese valor, cuál es ese valor, y por supuesto encontrar el resto de datos asociados,\n",
        "es decir, el numero de corrida, el evento, etc.\n",
        "\"\"\"\n",
        "\n",
        "maxi = max(P_t_2[1:]) #Encontramos el máximo valor de los momentos transversales reconstruido\n",
        "maxi2 = max(Datos[\"pt2\"][1:]) #Encontramos el máximo valor de los momentos transversales de los datos\n",
        "\n",
        "pos = np.where(P_t_2==maxi) #Ubicamos la posicion del máximo\n",
        "pos2 = np.where(Datos[\"pt2\"]==maxi2) #Ubicamos la posición del máximo en los datos\n",
        "print(Datos[pos2])"
      ],
      "execution_count": null,
      "outputs": [
        {
          "output_type": "stream",
          "name": "stdout",
          "text": [
            "[(165364., 9.52724295e+08, nan, -1., 5.7938, 2.0248, 1.6249, 22.3249, -0.3132, 5.7853, 21.5598, nan, 1., 9319.79, 2.3175, 1.7036, 47758.8, -1233.83, 9237.75, 46840.6, 70.671)]\n"
          ]
        }
      ]
    },
    {
      "cell_type": "code",
      "metadata": {
        "colab": {
          "base_uri": "https://localhost:8080/",
          "height": 555
        },
        "id": "FRSVxTL0LoRb",
        "outputId": "33406542-db8c-4184-d4ad-b372715eac2a"
      },
      "source": [
        "\n",
        "E_2 = (E1+E2)**2 #Creo los datos para la energia al cuadrado\n",
        "P_2 = ((px1+px2)**2+(py1+py2)**2+(pz1+pz2)**2) #El momento al cuadrado\n",
        "M2 = E_2-P_2 #Vector con la masa invariante al cuadrado, es posible desde aqui sacar la raiz cuadrada\n",
        "\n",
        "for i in range(len(M2)):\n",
        "  if M2[i] < 0:\n",
        "    print(M2[i])\n",
        "\n",
        "#Creamos una figura que contendra dos graficas (las masas)\n",
        "plt.figure(figsize=(16,6))\n",
        "plt.subplot(1,2,1)\n",
        "plt.hist(np.sqrt(M2),50) #Histograma de la masa reconstruida\n",
        "plt.title(\"Masa reconstruida\")\n",
        "plt.xlabel(\"Masa [GeV]\")\n",
        "plt.ylabel(\"Eventos\")\n",
        "plt.subplot(1,2,2)\n",
        "plt.hist(Datos[\"M\"],50)\n",
        "plt.title(\"Masa de los datos\") #Histograma de la masa dada en el sample1\n",
        "plt.xlabel(\"Masa [GeV]\")\n",
        "plt.ylabel(\"Eventos\")\n"
      ],
      "execution_count": null,
      "outputs": [
        {
          "output_type": "stream",
          "name": "stdout",
          "text": [
            "-0.07359725000424078\n",
            "-0.168294250004692\n",
            "-0.045875009993324056\n",
            "-0.033895200002007186\n",
            "-11.543812569230795\n",
            "-21.46264325454831\n"
          ]
        },
        {
          "output_type": "stream",
          "name": "stderr",
          "text": [
            "/usr/local/lib/python3.7/dist-packages/ipykernel_launcher.py:13: RuntimeWarning: invalid value encountered in sqrt\n",
            "  del sys.path[0]\n"
          ]
        },
        {
          "output_type": "execute_result",
          "data": {
            "text/plain": [
              "Text(0, 0.5, 'Eventos')"
            ]
          },
          "metadata": {},
          "execution_count": 44
        },
        {
          "output_type": "display_data",
          "data": {
            "image/png": "[encoded data removed]",
            "text/plain": [
              "<Figure size 1152x432 with 2 Axes>"
            ]
          },
          "metadata": {
            "needs_background": "light"
          }
        }
      ]
    },
    {
      "cell_type": "code",
      "metadata": {
        "id": "87Fd_84S6d3Y",
        "colab": {
          "base_uri": "https://localhost:8080/",
          "height": 1000
        },
        "outputId": "a317e00d-efcb-42ea-886a-e2d9d9383ce5"
      },
      "source": [
        "\"\"\"\n",
        "Graficamos las distribuciones de phi asi como delta Phi\n",
        "\"\"\"\n",
        "phi1 = []\n",
        "phi2 = []\n",
        "Dphi = []\n",
        "\n",
        "\n",
        "plt.figure()\n",
        "plt.hist(Datos[\"phi1\"],50)\n",
        "plt.figure()\n",
        "plt.hist(Datos[\"phi2\"],50)\n",
        "plt.figure()\n",
        "plt.hist(Datos[\"phi1\"]-Datos[\"phi2\"],50)"
      ],
      "execution_count": null,
      "outputs": [
        {
          "output_type": "execute_result",
          "data": {
            "text/plain": [
              "(array([ 133.,  263.,  385.,  637.,  771.,  577.,  377.,  344.,  451.,\n",
              "         609., 1019., 2195., 4719., 2472., 1389., 1011.,  888.,  808.,\n",
              "        1093., 2211., 3606., 3877., 3449., 3599., 7155., 6755., 3491.,\n",
              "        3343., 3732., 3334., 2110.,  982.,  795.,  808.,  902., 1157.,\n",
              "        2005., 3547., 1776.,  841.,  531.,  404.,  342.,  308.,  568.,\n",
              "         695.,  624.,  351.,  203.,  119.]),\n",
              " array([-6.266200e+00, -6.015446e+00, -5.764692e+00, -5.513938e+00,\n",
              "        -5.263184e+00, -5.012430e+00, -4.761676e+00, -4.510922e+00,\n",
              "        -4.260168e+00, -4.009414e+00, -3.758660e+00, -3.507906e+00,\n",
              "        -3.257152e+00, -3.006398e+00, -2.755644e+00, -2.504890e+00,\n",
              "        -2.254136e+00, -2.003382e+00, -1.752628e+00, -1.501874e+00,\n",
              "        -1.251120e+00, -1.000366e+00, -7.496120e-01, -4.988580e-01,\n",
              "        -2.481040e-01,  2.650000e-03,  2.534040e-01,  5.041580e-01,\n",
              "         7.549120e-01,  1.005666e+00,  1.256420e+00,  1.507174e+00,\n",
              "         1.757928e+00,  2.008682e+00,  2.259436e+00,  2.510190e+00,\n",
              "         2.760944e+00,  3.011698e+00,  3.262452e+00,  3.513206e+00,\n",
              "         3.763960e+00,  4.014714e+00,  4.265468e+00,  4.516222e+00,\n",
              "         4.766976e+00,  5.017730e+00,  5.268484e+00,  5.519238e+00,\n",
              "         5.769992e+00,  6.020746e+00,  6.271500e+00]),\n",
              " <a list of 50 Patch objects>)"
            ]
          },
          "metadata": {},
          "execution_count": 13
        },
        {
          "output_type": "display_data",
          "data": {
            "image/png": "[encoded data removed]",
            "text/plain": [
              "<Figure size 432x288 with 1 Axes>"
            ]
          },
          "metadata": {
            "needs_background": "light"
          }
        },
        {
          "output_type": "display_data",
          "data": {
            "image/png": "[encoded data removed]",
            "text/plain": [
              "<Figure size 432x288 with 1 Axes>"
            ]
          },
          "metadata": {
            "needs_background": "light"
          }
        },
        {
          "output_type": "display_data",
          "data": {
            "image/png": "[encoded data removed]",
            "text/plain": [
              "<Figure size 432x288 with 1 Axes>"
            ]
          },
          "metadata": {
            "needs_background": "light"
          }
        }
      ]
    },
    {
      "cell_type": "code",
      "metadata": {
        "colab": {
          "base_uri": "https://localhost:8080/",
          "height": 809
        },
        "id": "NZwfvcwunVgf",
        "outputId": "b8fe3028-305f-43d4-ac51-0da1b597f1c3"
      },
      "source": [
        "\"\"\"\n",
        "Grafiquemos eta\n",
        "\"\"\"\n",
        "eta = []\n",
        "theta = []\n",
        "theta1 = np.arccos(Datos[\"pz1\"]/(P_t_1**2+Datos[\"pz1\"]**2))\n",
        "eta1 = -np.log(np.tan(theta1/2))\n",
        "theta.append(theta1)#se agrega  theta1 a theta \n",
        "theta2 = np.arccos(Datos[\"pz2\"]/(P_t_1**2+Datos[\"pz2\"]**2))\n",
        "eta2 = -np.log(np.tan(theta2/2))\n",
        "theta.append(theta2) #se agrega  theta2 a theta\n",
        "eta.append(eta1)#se agrega  eta1 a eta\n",
        "eta.append(eta2)#se agrega  eta2 a eta\n",
        "\n",
        "plt.hist(eta,50,color=(\"b\",\"b\"))\n",
        "\n"
      ],
      "execution_count": null,
      "outputs": [
        {
          "output_type": "execute_result",
          "data": {
            "text/plain": [
              "(array([[0.0000e+00, 0.0000e+00, 0.0000e+00, 1.0000e+00, 7.0000e+00,\n",
              "         1.5000e+01, 1.5000e+01, 3.4000e+01, 2.4000e+01, 3.0000e+01,\n",
              "         2.1000e+01, 3.6000e+01, 1.4400e+02, 2.7600e+02, 5.9200e+02,\n",
              "         1.0730e+03, 1.5890e+03, 2.2310e+03, 2.9540e+03, 3.4050e+03,\n",
              "         3.9640e+03, 1.2595e+04, 1.5118e+04, 1.9447e+04, 6.5120e+03,\n",
              "         3.5360e+03, 3.1920e+03, 2.4550e+03, 1.7530e+03, 1.2270e+03,\n",
              "         7.4500e+02, 3.4400e+02, 1.6900e+02, 8.2000e+01, 2.9000e+01,\n",
              "         3.6000e+01, 2.8000e+01, 2.9000e+01, 1.7000e+01, 2.1000e+01,\n",
              "         1.3000e+01, 2.0000e+00, 0.0000e+00, 0.0000e+00, 0.0000e+00,\n",
              "         0.0000e+00, 0.0000e+00, 0.0000e+00, 0.0000e+00, 0.0000e+00],\n",
              "        [1.0000e+00, 0.0000e+00, 1.0000e+00, 2.0000e+00, 3.0000e+00,\n",
              "         6.0000e+00, 2.3000e+01, 4.2000e+01, 8.9000e+01, 1.6800e+02,\n",
              "         1.9500e+02, 3.2800e+02, 5.3500e+02, 7.1200e+02, 1.0180e+03,\n",
              "         1.4380e+03, 1.5870e+03, 1.9410e+03, 2.1320e+03, 2.2270e+03,\n",
              "         2.9950e+03, 8.3990e+03, 2.1560e+04, 1.8870e+04, 5.1100e+03,\n",
              "         2.6550e+03, 2.2750e+03, 2.2380e+03, 1.7280e+03, 1.5370e+03,\n",
              "         1.2830e+03, 9.4100e+02, 6.1000e+02, 3.9700e+02, 3.0900e+02,\n",
              "         1.9000e+02, 1.0300e+02, 5.8000e+01, 2.0000e+01, 1.4000e+01,\n",
              "         1.0000e+01, 3.0000e+00, 3.0000e+00, 0.0000e+00, 2.0000e+00,\n",
              "         0.0000e+00, 1.0000e+00, 0.0000e+00, 1.0000e+00, 1.0000e+00]]),\n",
              " array([-0.42706166, -0.40830706, -0.38955247, -0.37079788, -0.35204328,\n",
              "        -0.33328869, -0.31453409, -0.2957795 , -0.27702491, -0.25827031,\n",
              "        -0.23951572, -0.22076112, -0.20200653, -0.18325194, -0.16449734,\n",
              "        -0.14574275, -0.12698815, -0.10823356, -0.08947897, -0.07072437,\n",
              "        -0.05196978, -0.03321519, -0.01446059,  0.004294  ,  0.0230486 ,\n",
              "         0.04180319,  0.06055778,  0.07931238,  0.09806697,  0.11682157,\n",
              "         0.13557616,  0.15433075,  0.17308535,  0.19183994,  0.21059453,\n",
              "         0.22934913,  0.24810372,  0.26685832,  0.28561291,  0.3043675 ,\n",
              "         0.3231221 ,  0.34187669,  0.36063129,  0.37938588,  0.39814047,\n",
              "         0.41689507,  0.43564966,  0.45440426,  0.47315885,  0.49191344,\n",
              "         0.51066804]),\n",
              " <a list of 2 Lists of Patches objects>)"
            ]
          },
          "metadata": {},
          "execution_count": 11
        },
        {
          "output_type": "display_data",
          "data": {
            "image/png": "[encoded data removed]",
            "text/plain": [
              "<Figure size 432x288 with 1 Axes>"
            ]
          },
          "metadata": {
            "needs_background": "light"
          }
        }
      ]
    },
    {
      "cell_type": "markdown",
      "metadata": {
        "id": "XyFG9CHLnVZI"
      },
      "source": [
        "\n"
      ]
    }
  ]
}