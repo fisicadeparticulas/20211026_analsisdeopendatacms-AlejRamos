{
  "nbformat": 4,
  "nbformat_minor": 0,
  "metadata": {
    "colab": {
      "name": "Copia de Copia de MasaSample1.ipynb",
      "provenance": [],
      "include_colab_link": true
    },
    "kernelspec": {
      "name": "python3",
      "display_name": "Python 3"
    },
    "language_info": {
      "name": "python"
    }
  },
  "cells": [
    {
      "cell_type": "markdown",
      "metadata": {
        "id": "view-in-github",
        "colab_type": "text"
      },
      "source": [
        "<a href=\"https://colab.research.google.com/github/fisicadeparticulas/20211026_analsisdeopendatacms-AlejRamos/blob/main/Copia_de_Copia_de_MasaSample1.ipynb\" target=\"_parent\"><img src=\"https://colab.research.google.com/assets/colab-badge.svg\" alt=\"Open In Colab\"/></a>"
      ]
    },
    {
      "cell_type": "code",
      "metadata": {
        "colab": {
          "base_uri": "https://localhost:8080/",
          "height": 203
        },
        "id": "z_IZVwd-J0MV",
        "outputId": "8083433a-9eab-4b87-c567-5af1484b9e61"
      },
      "source": [
        "import pandas as pd\n",
        "import numpy as np\n",
        "import matplotlib.pyplot as plt\n",
        "\n",
        "archivo = pd.read_csv(\"https://goo.gl/sp8gYx\")\n",
        "archivo.head()"
      ],
      "execution_count": 1,
      "outputs": [
        {
          "output_type": "execute_result",
          "data": {
            "text/html": [
              "<div>\n",
              "<style scoped>\n",
              "    .dataframe tbody tr th:only-of-type {\n",
              "        vertical-align: middle;\n",
              "    }\n",
              "\n",
              "    .dataframe tbody tr th {\n",
              "        vertical-align: top;\n",
              "    }\n",
              "\n",
              "    .dataframe thead th {\n",
              "        text-align: right;\n",
              "    }\n",
              "</style>\n",
              "<table border=\"1\" class=\"dataframe\">\n",
              "  <thead>\n",
              "    <tr style=\"text-align: right;\">\n",
              "      <th></th>\n",
              "      <th>Run</th>\n",
              "      <th>Event</th>\n",
              "      <th>type1</th>\n",
              "      <th>Q1</th>\n",
              "      <th>pt1</th>\n",
              "      <th>eta1</th>\n",
              "      <th>phi1</th>\n",
              "      <th>E1</th>\n",
              "      <th>px1</th>\n",
              "      <th>py1</th>\n",
              "      <th>pz1</th>\n",
              "      <th>type2</th>\n",
              "      <th>Q2</th>\n",
              "      <th>pt2</th>\n",
              "      <th>eta2</th>\n",
              "      <th>phi2</th>\n",
              "      <th>E2</th>\n",
              "      <th>px2</th>\n",
              "      <th>py2</th>\n",
              "      <th>pz2</th>\n",
              "      <th>M</th>\n",
              "    </tr>\n",
              "  </thead>\n",
              "  <tbody>\n",
              "    <tr>\n",
              "      <th>0</th>\n",
              "      <td>166699</td>\n",
              "      <td>835716681</td>\n",
              "      <td>G</td>\n",
              "      <td>1</td>\n",
              "      <td>4.2116</td>\n",
              "      <td>2.2366</td>\n",
              "      <td>-0.4849</td>\n",
              "      <td>19.9382</td>\n",
              "      <td>3.7261</td>\n",
              "      <td>-1.9631</td>\n",
              "      <td>19.4881</td>\n",
              "      <td>T</td>\n",
              "      <td>-1</td>\n",
              "      <td>1.2556</td>\n",
              "      <td>2.2683</td>\n",
              "      <td>-1.4488</td>\n",
              "      <td>6.1319</td>\n",
              "      <td>0.1528</td>\n",
              "      <td>-1.2463</td>\n",
              "      <td>6.0011</td>\n",
              "      <td>2.1330</td>\n",
              "    </tr>\n",
              "    <tr>\n",
              "      <th>1</th>\n",
              "      <td>166699</td>\n",
              "      <td>836133459</td>\n",
              "      <td>G</td>\n",
              "      <td>-1</td>\n",
              "      <td>2.1479</td>\n",
              "      <td>-2.0159</td>\n",
              "      <td>-2.7753</td>\n",
              "      <td>8.2066</td>\n",
              "      <td>-2.0055</td>\n",
              "      <td>-0.7692</td>\n",
              "      <td>-7.9199</td>\n",
              "      <td>G</td>\n",
              "      <td>1</td>\n",
              "      <td>19.5453</td>\n",
              "      <td>-1.0826</td>\n",
              "      <td>-0.3408</td>\n",
              "      <td>32.1613</td>\n",
              "      <td>18.4210</td>\n",
              "      <td>-6.5332</td>\n",
              "      <td>-25.5406</td>\n",
              "      <td>13.6786</td>\n",
              "    </tr>\n",
              "    <tr>\n",
              "      <th>2</th>\n",
              "      <td>166699</td>\n",
              "      <td>836165498</td>\n",
              "      <td>G</td>\n",
              "      <td>1</td>\n",
              "      <td>21.0732</td>\n",
              "      <td>1.5948</td>\n",
              "      <td>-1.1137</td>\n",
              "      <td>54.0560</td>\n",
              "      <td>9.2997</td>\n",
              "      <td>-18.9102</td>\n",
              "      <td>49.7791</td>\n",
              "      <td>T</td>\n",
              "      <td>-1</td>\n",
              "      <td>2.3864</td>\n",
              "      <td>1.5352</td>\n",
              "      <td>-1.7388</td>\n",
              "      <td>5.7968</td>\n",
              "      <td>-0.3991</td>\n",
              "      <td>-2.3528</td>\n",
              "      <td>5.2818</td>\n",
              "      <td>4.3813</td>\n",
              "    </tr>\n",
              "    <tr>\n",
              "      <th>3</th>\n",
              "      <td>166699</td>\n",
              "      <td>836249706</td>\n",
              "      <td>G</td>\n",
              "      <td>1</td>\n",
              "      <td>18.5889</td>\n",
              "      <td>1.6422</td>\n",
              "      <td>1.1923</td>\n",
              "      <td>49.8180</td>\n",
              "      <td>6.8688</td>\n",
              "      <td>17.2734</td>\n",
              "      <td>46.2199</td>\n",
              "      <td>G</td>\n",
              "      <td>-1</td>\n",
              "      <td>1.8721</td>\n",
              "      <td>1.9704</td>\n",
              "      <td>1.6393</td>\n",
              "      <td>6.8459</td>\n",
              "      <td>-0.1281</td>\n",
              "      <td>1.8678</td>\n",
              "      <td>6.5841</td>\n",
              "      <td>3.2587</td>\n",
              "    </tr>\n",
              "    <tr>\n",
              "      <th>4</th>\n",
              "      <td>166699</td>\n",
              "      <td>835608783</td>\n",
              "      <td>G</td>\n",
              "      <td>-1</td>\n",
              "      <td>11.8194</td>\n",
              "      <td>0.8711</td>\n",
              "      <td>-1.5811</td>\n",
              "      <td>16.5947</td>\n",
              "      <td>-0.1214</td>\n",
              "      <td>-11.8187</td>\n",
              "      <td>11.6479</td>\n",
              "      <td>T</td>\n",
              "      <td>1</td>\n",
              "      <td>0.9408</td>\n",
              "      <td>2.0107</td>\n",
              "      <td>-1.6559</td>\n",
              "      <td>3.5779</td>\n",
              "      <td>-0.0799</td>\n",
              "      <td>-0.9374</td>\n",
              "      <td>3.4504</td>\n",
              "      <td>4.0171</td>\n",
              "    </tr>\n",
              "  </tbody>\n",
              "</table>\n",
              "</div>"
            ],
            "text/plain": [
              "      Run      Event type1  Q1  ...      px2     py2      pz2        M\n",
              "0  166699  835716681     G   1  ...   0.1528 -1.2463   6.0011   2.1330\n",
              "1  166699  836133459     G  -1  ...  18.4210 -6.5332 -25.5406  13.6786\n",
              "2  166699  836165498     G   1  ...  -0.3991 -2.3528   5.2818   4.3813\n",
              "3  166699  836249706     G   1  ...  -0.1281  1.8678   6.5841   3.2587\n",
              "4  166699  835608783     G  -1  ...  -0.0799 -0.9374   3.4504   4.0171\n",
              "\n",
              "[5 rows x 21 columns]"
            ]
          },
          "metadata": {},
          "execution_count": 1
        }
      ]
    },
    {
      "cell_type": "code",
      "metadata": {
        "id": "jypr9MHdKXyA"
      },
      "source": [
        "\"\"\"\n",
        "En estas lineas de codigo creamos un archivo con numpy a partir del CSV\n",
        "\"\"\"\n",
        "Datos = np.genfromtxt(\"https://goo.gl/sp8gYx\" , delimiter=\",\",\n",
        "                      names=[\"run\",\"event\",\"type1\",\"Q1\",\"pt1\",\"eta1\",\"phi1\",\"E1\",\"px1\",\"py1\",\"pz1\",\"type2\",\"Q2\",\"pt2\",\"eta2\",\"phi2\",\"E2\",\"px2\",\"py2\",\"pz2\",\"M\"])\n",
        "\n",
        "#A continuación se crean algunas listas, sin embargo este paso puede ser omitido\n",
        "#El motivo de creacion es para simplificar notaciones más adelante pero como veremos\n",
        "# ocupando las listas directamente de los Datos es suficiente\n",
        "px1 = []\n",
        "px1 = Datos[\"px1\"]\n",
        "py1 = []\n",
        "py1 = Datos[\"py1\"]\n",
        "pz1 = []\n",
        "pz1 = Datos[\"pz1\"]\n",
        "px2 = []\n",
        "px2 = Datos[\"px2\"]\n",
        "py2 =[]\n",
        "py2 = Datos[\"py2\"]\n",
        "pz2 = []\n",
        "pz2 = Datos[\"pz2\"]\n",
        "E1 = []\n",
        "E1 = Datos[\"E1\"]\n",
        "E2 = []\n",
        "E2 = Datos[\"E2\"]"
      ],
      "execution_count": 2,
      "outputs": []
    },
    {
      "cell_type": "code",
      "metadata": {
        "colab": {
          "base_uri": "https://localhost:8080/",
          "height": 780
        },
        "id": "K0gcNaII5NoB",
        "outputId": "78dd46ae-243d-43a0-be70-a35629471612"
      },
      "source": [
        "\"\"\"\n",
        "Grafiquemos el momento transversal\n",
        "\"\"\"\n",
        "#Se crea los momentos transversales\n",
        "P_t_1 = np.sqrt(Datos[\"px1\"]**2 + Datos[\"py1\"]**2) #Momento transversal de la particula 1\n",
        "P_t_2 = np.sqrt(Datos[\"px2\"]**2 + Datos[\"py2\"]**2) #Momento transversal de la particula 2\n",
        "\n",
        "#Figura con dos graficas (Los momentos transversales)\n",
        "#Se puede replicar para obtener los momentos transversales de las dos particulas o agregar más subplots para juntarlas\n",
        "plt.figure(figsize=(16,6))\n",
        "plt.subplot(1,2,1)\n",
        "plt.hist(P_t_2,50) # Histograma del momento transversal reconstruido\n",
        "plt.title(\"Reconstruccion del momento transversal\")\n",
        "plt.subplot(1,2,2) \n",
        "plt.title(\"Momento transversal de los datos\")\n",
        "plt.hist(Datos[\"pt2\"],50) #Momento transversal proporcionado en el Sample1\n",
        "\n",
        "plt.figure(figsize=(16,6))\n",
        "plt.subplot(1,2,1)\n",
        "plt.hist(P_t_2,5000) # Histograma del momento transversal reconstruido\n",
        "plt.title(\"Reconstruccion del momento transversal\")\n",
        "plt.xlim(0,100)\n",
        "plt.subplot(1,2,2) \n",
        "plt.title(\"Momento transversal de los datos\")\n",
        "plt.hist(Datos[\"pt2\"],5000) #Momento transversal proporcionado en el Sample1\n",
        "plt.xlim(0,100)\n",
        "\n",
        "\n"
      ],
      "execution_count": 5,
      "outputs": [
        {
          "output_type": "execute_result",
          "data": {
            "text/plain": [
              "(0.0, 100.0)"
            ]
          },
          "metadata": {},
          "execution_count": 5
        },
        {
          "output_type": "display_data",
          "data": {
            "image/png": "[encoded data removed]",
            "text/plain": [
              "<Figure size 1152x432 with 2 Axes>"
            ]
          },
          "metadata": {
            "needs_background": "light"
          }
        },
        {
          "output_type": "display_data",
          "data": {
            "image/png": "[encoded data removed]",
            "text/plain": [
              "<Figure size 1152x432 with 2 Axes>"
            ]
          },
          "metadata": {
            "needs_background": "light"
          }
        }
      ]
    },
    {
      "cell_type": "code",
      "metadata": {
        "id": "eFnPwRZrvk0a",
        "colab": {
          "base_uri": "https://localhost:8080/"
        },
        "outputId": "578a5266-1ca7-4fb0-c915-105f91f7ac75"
      },
      "source": [
        "\"\"\"\n",
        "Por qué el histograma arroja datos de valores tan altos?\n",
        "En esta parte del programa intentaremos averiguar, con unas cuantas lineas de codigo\n",
        "porque da ese valor, cuál es ese valor, y por supuesto encontrar el resto de datos asociados,\n",
        "es decir, el numero de corrida, el evento, etc.\n",
        "\"\"\"\n",
        "\n",
        "maxi = max(P_t_2[1:]) #Encontramos el máximo valor de los momentos transversales reconstruido\n",
        "maxi2 = max(Datos[\"pt2\"][1:]) #Encontramos el máximo valor de los momentos transversales de los datos\n",
        "\n",
        "pos = np.where(P_t_2==maxi) #Ubicamos la posicion del máximo\n",
        "pos2 = np.where(Datos[\"pt2\"]==maxi2) #Ubicamos la posición del máximo en los datos\n",
        "print(Datos[pos2])"
      ],
      "execution_count": null,
      "outputs": [
        {
          "output_type": "stream",
          "name": "stdout",
          "text": [
            "[(165364., 9.52724295e+08, nan, -1., 5.7938, 2.0248, 1.6249, 22.3249, -0.3132, 5.7853, 21.5598, nan, 1., 9319.79, 2.3175, 1.7036, 47758.8, -1233.83, 9237.75, 46840.6, 70.671)]\n"
          ]
        }
      ]
    },
    {
      "cell_type": "code",
      "metadata": {
        "colab": {
          "base_uri": "https://localhost:8080/",
          "height": 555
        },
        "id": "FRSVxTL0LoRb",
        "outputId": "1851ecbe-510f-4dbd-e8c8-2afe81e96437"
      },
      "source": [
        "\n",
        "E_2 = (E1+E2)**2 #Creo los datos para la energia al cuadrado\n",
        "P_2 = ((px1+px2)**2+(py1+py2)**2+(pz1+pz2)**2) #El momento al cuadrado\n",
        "M2 = E_2-P_2 #Vector con la masa invariante al cuadrado, es posible desde aqui sacar la raiz cuadrada\n",
        "\n",
        "for i in range(len(M2)):\n",
        "  if M2[i] < 0:\n",
        "    print(M2[i])\n",
        "\n",
        "#Creamos una figura que contendra dos graficas (las masas)\n",
        "plt.figure(figsize=(16,6))\n",
        "plt.subplot(1,2,1)\n",
        "plt.hist(np.sqrt(M2),1000) #Histograma de la masa reconstruida\n",
        "plt.title(\"Masa reconstruida\")\n",
        "plt.xlabel(\"Masa [GeV]\")\n",
        "plt.ylabel(\"Eventos\")\n",
        "plt.subplot(1,2,2)\n",
        "plt.hist(Datos[\"M\"],1000)\n",
        "plt.title(\"Masa de los datos\") #Histograma de la masa dada en el sample1\n",
        "plt.xlabel(\"Masa [GeV]\")\n",
        "plt.ylabel(\"Eventos\")\n"
      ],
      "execution_count": 7,
      "outputs": [
        {
          "output_type": "stream",
          "name": "stdout",
          "text": [
            "-0.07359725000424078\n",
            "-0.168294250004692\n",
            "-0.045875009993324056\n",
            "-0.033895200002007186\n",
            "-11.543812569230795\n",
            "-21.46264325454831\n"
          ]
        },
        {
          "output_type": "stream",
          "name": "stderr",
          "text": [
            "/usr/local/lib/python3.7/dist-packages/ipykernel_launcher.py:13: RuntimeWarning: invalid value encountered in sqrt\n",
            "  del sys.path[0]\n"
          ]
        },
        {
          "output_type": "execute_result",
          "data": {
            "text/plain": [
              "Text(0, 0.5, 'Eventos')"
            ]
          },
          "metadata": {},
          "execution_count": 7
        },
        {
          "output_type": "display_data",
          "data": {
            "image/png": "[encoded data removed]",
            "text/plain": [
              "<Figure size 1152x432 with 2 Axes>"
            ]
          },
          "metadata": {
            "needs_background": "light"
          }
        }
      ]
    },
    {
      "cell_type": "code",
      "metadata": {
        "id": "87Fd_84S6d3Y",
        "colab": {
          "base_uri": "https://localhost:8080/",
          "height": 1000
        },
        "outputId": "28c197f0-1e9e-4418-f476-51360dab2b5e"
      },
      "source": [
        "\"\"\"\n",
        "Graficamos las distribuciones de phi asi como delta Phi\n",
        "\"\"\"\n",
        "phi1 = []\n",
        "phi2 = []\n",
        "Dphi = abs(Datos[\"phi1\"]-Datos[\"phi2\"])\n",
        "\n",
        "\n",
        "plt.figure()\n",
        "plt.hist(Datos[\"phi1\"],50)\n",
        "plt.figure()\n",
        "plt.hist(Datos[\"phi2\"],50)\n",
        "plt.figure()\n",
        "plt.hist(Dphi,500)"
      ],
      "execution_count": 9,
      "outputs": [
        {
          "output_type": "execute_result",
          "data": {
            "text/plain": [
              "(array([1104., 1109., 1029.,  998.,  897.,  770.,  816.,  726.,  690.,\n",
              "         648.,  620.,  564.,  539.,  529.,  523.,  469.,  458.,  529.,\n",
              "         434.,  459.,  475.,  466.,  430.,  394.,  383.,  390.,  365.,\n",
              "         396.,  332.,  347.,  336.,  328.,  337.,  282.,  303.,  320.,\n",
              "         292.,  292.,  333.,  304.,  295.,  309.,  326.,  330.,  314.,\n",
              "         316.,  334.,  355.,  337.,  317.,  336.,  341.,  371.,  386.,\n",
              "         364.,  342.,  317.,  350.,  367.,  384.,  327.,  375.,  401.,\n",
              "         403.,  394.,  417.,  384.,  375.,  340.,  386.,  390.,  385.,\n",
              "         356.,  389.,  366.,  382.,  377.,  364.,  373.,  425.,  362.,\n",
              "         375.,  393.,  359.,  357.,  381.,  368.,  371.,  342.,  350.,\n",
              "         363.,  319.,  346.,  335.,  357.,  338.,  326.,  297.,  311.,\n",
              "         284.,  285.,  324.,  264.,  254.,  237.,  263.,  235.,  240.,\n",
              "         242.,  207.,  196.,  197.,  198.,  171.,  194.,  191.,  164.,\n",
              "         180.,  138.,  142.,  130.,  149.,  145.,  127.,  119.,   95.,\n",
              "         111.,  109.,   95.,   89.,   80.,   95.,  102.,   90.,  110.,\n",
              "          79.,  101.,   75.,   84.,   83.,   88.,   81.,   78.,   84.,\n",
              "          77.,   85.,   75.,   74.,   91.,   72.,   78.,   91.,   74.,\n",
              "          79.,   86.,   89.,   84.,   73.,   80.,   69.,   77.,   83.,\n",
              "          78.,   81.,   80.,   91.,   77.,   86.,   86.,   92.,   87.,\n",
              "          78.,   81.,   94.,   84.,   79.,   89.,   92.,   84.,   96.,\n",
              "          84.,   99.,   78.,   81.,  105.,  107.,  104.,   86.,  102.,\n",
              "          98.,   76.,  104.,   75.,  103.,  100.,   96.,  108.,  110.,\n",
              "          99.,  101.,  115.,  117.,  109.,  102.,   99.,  122.,  117.,\n",
              "         135.,  103.,  129.,  130.,  129.,  126.,  128.,  145.,  132.,\n",
              "         140.,  159.,  155.,  160.,  166.,  173.,  169.,  184.,  197.,\n",
              "         187.,  183.,  202.,  214.,  234.,  212.,  227.,  234.,  241.,\n",
              "         233.,  252.,  304.,  288.,  282.,  321.,  316.,  365.,  387.,\n",
              "         329.,  382.,  396.,  442.,  393.,  473.,  514.,  608.,  463.,\n",
              "         497.,  432.,  416.,  408.,  408.,  367.,  332.,  340.,  292.,\n",
              "         331.,  251.,  268.,  251.,  228.,  214.,  213.,  178.,  168.,\n",
              "         178.,  167.,  171.,  139.,  156.,  150.,  144.,  159.,  144.,\n",
              "         142.,  106.,  115.,   93.,  101.,  106.,   94.,  122.,  114.,\n",
              "         103.,   95.,   93.,  106.,   85.,   86.,   75.,   80.,   72.,\n",
              "          61.,   68.,   74.,   69.,   70.,   75.,   56.,   59.,   62.,\n",
              "          61.,   63.,   62.,   61.,   41.,   61.,   63.,   46.,   42.,\n",
              "          48.,   47.,   54.,   52.,   46.,   59.,   54.,   54.,   33.,\n",
              "          54.,   48.,   38.,   30.,   49.,   50.,   37.,   43.,   43.,\n",
              "          33.,   35.,   40.,   37.,   52.,   31.,   39.,   35.,   42.,\n",
              "          36.,   36.,   35.,   33.,   25.,   43.,   36.,   40.,   32.,\n",
              "          31.,   29.,   44.,   32.,   23.,   29.,   33.,   31.,   40.,\n",
              "          32.,   20.,   25.,   32.,   30.,   31.,   32.,   35.,   36.,\n",
              "          33.,   28.,   34.,   31.,   31.,   48.,   47.,   38.,   38.,\n",
              "          44.,   42.,   34.,   45.,   49.,   41.,   42.,   42.,   57.,\n",
              "          50.,   59.,   61.,   64.,   54.,   62.,   63.,   54.,   76.,\n",
              "          73.,   77.,   70.,   75.,   68.,   59.,   78.,   75.,   71.,\n",
              "          60.,   73.,   84.,   82.,   73.,   72.,   84.,   79.,   75.,\n",
              "          80.,   84.,   73.,   61.,   69.,   64.,   69.,   62.,   62.,\n",
              "          78.,   69.,   67.,   84.,   65.,   69.,   50.,   72.,   59.,\n",
              "          53.,   74.,   60.,   72.,   55.,   48.,   48.,   48.,   52.,\n",
              "          41.,   38.,   40.,   45.,   49.,   38.,   53.,   39.,   27.,\n",
              "          46.,   41.,   31.,   30.,   38.,   36.,   22.,   22.,   22.,\n",
              "          22.,   27.,   28.,   26.,   26.,   21.,   27.,   22.,   21.,\n",
              "          27.,   23.,   26.,   14.,   12.,   29.,   27.,   24.,   15.,\n",
              "          28.,   20.,   18.,   14.,   14.,   19.,   16.,   14.,   16.,\n",
              "          23.,   10.,    9.,   15.,   11.,    9.,   13.,    9.,    5.,\n",
              "          13.,   10.,   17.,    3.,    8.]),\n",
              " array([0.      , 0.012543, 0.025086, 0.037629, 0.050172, 0.062715,\n",
              "        0.075258, 0.087801, 0.100344, 0.112887, 0.12543 , 0.137973,\n",
              "        0.150516, 0.163059, 0.175602, 0.188145, 0.200688, 0.213231,\n",
              "        0.225774, 0.238317, 0.25086 , 0.263403, 0.275946, 0.288489,\n",
              "        0.301032, 0.313575, 0.326118, 0.338661, 0.351204, 0.363747,\n",
              "        0.37629 , 0.388833, 0.401376, 0.413919, 0.426462, 0.439005,\n",
              "        0.451548, 0.464091, 0.476634, 0.489177, 0.50172 , 0.514263,\n",
              "        0.526806, 0.539349, 0.551892, 0.564435, 0.576978, 0.589521,\n",
              "        0.602064, 0.614607, 0.62715 , 0.639693, 0.652236, 0.664779,\n",
              "        0.677322, 0.689865, 0.702408, 0.714951, 0.727494, 0.740037,\n",
              "        0.75258 , 0.765123, 0.777666, 0.790209, 0.802752, 0.815295,\n",
              "        0.827838, 0.840381, 0.852924, 0.865467, 0.87801 , 0.890553,\n",
              "        0.903096, 0.915639, 0.928182, 0.940725, 0.953268, 0.965811,\n",
              "        0.978354, 0.990897, 1.00344 , 1.015983, 1.028526, 1.041069,\n",
              "        1.053612, 1.066155, 1.078698, 1.091241, 1.103784, 1.116327,\n",
              "        1.12887 , 1.141413, 1.153956, 1.166499, 1.179042, 1.191585,\n",
              "        1.204128, 1.216671, 1.229214, 1.241757, 1.2543  , 1.266843,\n",
              "        1.279386, 1.291929, 1.304472, 1.317015, 1.329558, 1.342101,\n",
              "        1.354644, 1.367187, 1.37973 , 1.392273, 1.404816, 1.417359,\n",
              "        1.429902, 1.442445, 1.454988, 1.467531, 1.480074, 1.492617,\n",
              "        1.50516 , 1.517703, 1.530246, 1.542789, 1.555332, 1.567875,\n",
              "        1.580418, 1.592961, 1.605504, 1.618047, 1.63059 , 1.643133,\n",
              "        1.655676, 1.668219, 1.680762, 1.693305, 1.705848, 1.718391,\n",
              "        1.730934, 1.743477, 1.75602 , 1.768563, 1.781106, 1.793649,\n",
              "        1.806192, 1.818735, 1.831278, 1.843821, 1.856364, 1.868907,\n",
              "        1.88145 , 1.893993, 1.906536, 1.919079, 1.931622, 1.944165,\n",
              "        1.956708, 1.969251, 1.981794, 1.994337, 2.00688 , 2.019423,\n",
              "        2.031966, 2.044509, 2.057052, 2.069595, 2.082138, 2.094681,\n",
              "        2.107224, 2.119767, 2.13231 , 2.144853, 2.157396, 2.169939,\n",
              "        2.182482, 2.195025, 2.207568, 2.220111, 2.232654, 2.245197,\n",
              "        2.25774 , 2.270283, 2.282826, 2.295369, 2.307912, 2.320455,\n",
              "        2.332998, 2.345541, 2.358084, 2.370627, 2.38317 , 2.395713,\n",
              "        2.408256, 2.420799, 2.433342, 2.445885, 2.458428, 2.470971,\n",
              "        2.483514, 2.496057, 2.5086  , 2.521143, 2.533686, 2.546229,\n",
              "        2.558772, 2.571315, 2.583858, 2.596401, 2.608944, 2.621487,\n",
              "        2.63403 , 2.646573, 2.659116, 2.671659, 2.684202, 2.696745,\n",
              "        2.709288, 2.721831, 2.734374, 2.746917, 2.75946 , 2.772003,\n",
              "        2.784546, 2.797089, 2.809632, 2.822175, 2.834718, 2.847261,\n",
              "        2.859804, 2.872347, 2.88489 , 2.897433, 2.909976, 2.922519,\n",
              "        2.935062, 2.947605, 2.960148, 2.972691, 2.985234, 2.997777,\n",
              "        3.01032 , 3.022863, 3.035406, 3.047949, 3.060492, 3.073035,\n",
              "        3.085578, 3.098121, 3.110664, 3.123207, 3.13575 , 3.148293,\n",
              "        3.160836, 3.173379, 3.185922, 3.198465, 3.211008, 3.223551,\n",
              "        3.236094, 3.248637, 3.26118 , 3.273723, 3.286266, 3.298809,\n",
              "        3.311352, 3.323895, 3.336438, 3.348981, 3.361524, 3.374067,\n",
              "        3.38661 , 3.399153, 3.411696, 3.424239, 3.436782, 3.449325,\n",
              "        3.461868, 3.474411, 3.486954, 3.499497, 3.51204 , 3.524583,\n",
              "        3.537126, 3.549669, 3.562212, 3.574755, 3.587298, 3.599841,\n",
              "        3.612384, 3.624927, 3.63747 , 3.650013, 3.662556, 3.675099,\n",
              "        3.687642, 3.700185, 3.712728, 3.725271, 3.737814, 3.750357,\n",
              "        3.7629  , 3.775443, 3.787986, 3.800529, 3.813072, 3.825615,\n",
              "        3.838158, 3.850701, 3.863244, 3.875787, 3.88833 , 3.900873,\n",
              "        3.913416, 3.925959, 3.938502, 3.951045, 3.963588, 3.976131,\n",
              "        3.988674, 4.001217, 4.01376 , 4.026303, 4.038846, 4.051389,\n",
              "        4.063932, 4.076475, 4.089018, 4.101561, 4.114104, 4.126647,\n",
              "        4.13919 , 4.151733, 4.164276, 4.176819, 4.189362, 4.201905,\n",
              "        4.214448, 4.226991, 4.239534, 4.252077, 4.26462 , 4.277163,\n",
              "        4.289706, 4.302249, 4.314792, 4.327335, 4.339878, 4.352421,\n",
              "        4.364964, 4.377507, 4.39005 , 4.402593, 4.415136, 4.427679,\n",
              "        4.440222, 4.452765, 4.465308, 4.477851, 4.490394, 4.502937,\n",
              "        4.51548 , 4.528023, 4.540566, 4.553109, 4.565652, 4.578195,\n",
              "        4.590738, 4.603281, 4.615824, 4.628367, 4.64091 , 4.653453,\n",
              "        4.665996, 4.678539, 4.691082, 4.703625, 4.716168, 4.728711,\n",
              "        4.741254, 4.753797, 4.76634 , 4.778883, 4.791426, 4.803969,\n",
              "        4.816512, 4.829055, 4.841598, 4.854141, 4.866684, 4.879227,\n",
              "        4.89177 , 4.904313, 4.916856, 4.929399, 4.941942, 4.954485,\n",
              "        4.967028, 4.979571, 4.992114, 5.004657, 5.0172  , 5.029743,\n",
              "        5.042286, 5.054829, 5.067372, 5.079915, 5.092458, 5.105001,\n",
              "        5.117544, 5.130087, 5.14263 , 5.155173, 5.167716, 5.180259,\n",
              "        5.192802, 5.205345, 5.217888, 5.230431, 5.242974, 5.255517,\n",
              "        5.26806 , 5.280603, 5.293146, 5.305689, 5.318232, 5.330775,\n",
              "        5.343318, 5.355861, 5.368404, 5.380947, 5.39349 , 5.406033,\n",
              "        5.418576, 5.431119, 5.443662, 5.456205, 5.468748, 5.481291,\n",
              "        5.493834, 5.506377, 5.51892 , 5.531463, 5.544006, 5.556549,\n",
              "        5.569092, 5.581635, 5.594178, 5.606721, 5.619264, 5.631807,\n",
              "        5.64435 , 5.656893, 5.669436, 5.681979, 5.694522, 5.707065,\n",
              "        5.719608, 5.732151, 5.744694, 5.757237, 5.76978 , 5.782323,\n",
              "        5.794866, 5.807409, 5.819952, 5.832495, 5.845038, 5.857581,\n",
              "        5.870124, 5.882667, 5.89521 , 5.907753, 5.920296, 5.932839,\n",
              "        5.945382, 5.957925, 5.970468, 5.983011, 5.995554, 6.008097,\n",
              "        6.02064 , 6.033183, 6.045726, 6.058269, 6.070812, 6.083355,\n",
              "        6.095898, 6.108441, 6.120984, 6.133527, 6.14607 , 6.158613,\n",
              "        6.171156, 6.183699, 6.196242, 6.208785, 6.221328, 6.233871,\n",
              "        6.246414, 6.258957, 6.2715  ]),\n",
              " <a list of 500 Patch objects>)"
            ]
          },
          "metadata": {},
          "execution_count": 9
        },
        {
          "output_type": "display_data",
          "data": {
            "image/png": "[encoded data removed]",
            "text/plain": [
              "<Figure size 432x288 with 1 Axes>"
            ]
          },
          "metadata": {
            "needs_background": "light"
          }
        },
        {
          "output_type": "display_data",
          "data": {
            "image/png": "[encoded data removed]",
            "text/plain": [
              "<Figure size 432x288 with 1 Axes>"
            ]
          },
          "metadata": {
            "needs_background": "light"
          }
        },
        {
          "output_type": "display_data",
          "data": {
            "image/png": "[encoded data removed]",
            "text/plain": [
              "<Figure size 432x288 with 1 Axes>"
            ]
          },
          "metadata": {
            "needs_background": "light"
          }
        }
      ]
    },
    {
      "cell_type": "code",
      "metadata": {
        "colab": {
          "base_uri": "https://localhost:8080/",
          "height": 809
        },
        "id": "NZwfvcwunVgf",
        "outputId": "b8fe3028-305f-43d4-ac51-0da1b597f1c3"
      },
      "source": [
        "\"\"\"\n",
        "Grafiquemos eta\n",
        "\"\"\"\n",
        "eta = []\n",
        "theta = []\n",
        "theta1 = np.arccos(Datos[\"pz1\"]/(P_t_1**2+Datos[\"pz1\"]**2))\n",
        "eta1 = -np.log(np.tan(theta1/2))\n",
        "theta.append(theta1)#se agrega  theta1 a theta \n",
        "theta2 = np.arccos(Datos[\"pz2\"]/(P_t_1**2+Datos[\"pz2\"]**2))\n",
        "eta2 = -np.log(np.tan(theta2/2))\n",
        "theta.append(theta2) #se agrega  theta2 a theta\n",
        "eta.append(eta1)#se agrega  eta1 a eta\n",
        "eta.append(eta2)#se agrega  eta2 a eta\n",
        "\n",
        "plt.hist(eta,50,color=(\"b\",\"b\"))\n",
        "\n"
      ],
      "execution_count": null,
      "outputs": [
        {
          "output_type": "execute_result",
          "data": {
            "text/plain": [
              "(array([[0.0000e+00, 0.0000e+00, 0.0000e+00, 1.0000e+00, 7.0000e+00,\n",
              "         1.5000e+01, 1.5000e+01, 3.4000e+01, 2.4000e+01, 3.0000e+01,\n",
              "         2.1000e+01, 3.6000e+01, 1.4400e+02, 2.7600e+02, 5.9200e+02,\n",
              "         1.0730e+03, 1.5890e+03, 2.2310e+03, 2.9540e+03, 3.4050e+03,\n",
              "         3.9640e+03, 1.2595e+04, 1.5118e+04, 1.9447e+04, 6.5120e+03,\n",
              "         3.5360e+03, 3.1920e+03, 2.4550e+03, 1.7530e+03, 1.2270e+03,\n",
              "         7.4500e+02, 3.4400e+02, 1.6900e+02, 8.2000e+01, 2.9000e+01,\n",
              "         3.6000e+01, 2.8000e+01, 2.9000e+01, 1.7000e+01, 2.1000e+01,\n",
              "         1.3000e+01, 2.0000e+00, 0.0000e+00, 0.0000e+00, 0.0000e+00,\n",
              "         0.0000e+00, 0.0000e+00, 0.0000e+00, 0.0000e+00, 0.0000e+00],\n",
              "        [1.0000e+00, 0.0000e+00, 1.0000e+00, 2.0000e+00, 3.0000e+00,\n",
              "         6.0000e+00, 2.3000e+01, 4.2000e+01, 8.9000e+01, 1.6800e+02,\n",
              "         1.9500e+02, 3.2800e+02, 5.3500e+02, 7.1200e+02, 1.0180e+03,\n",
              "         1.4380e+03, 1.5870e+03, 1.9410e+03, 2.1320e+03, 2.2270e+03,\n",
              "         2.9950e+03, 8.3990e+03, 2.1560e+04, 1.8870e+04, 5.1100e+03,\n",
              "         2.6550e+03, 2.2750e+03, 2.2380e+03, 1.7280e+03, 1.5370e+03,\n",
              "         1.2830e+03, 9.4100e+02, 6.1000e+02, 3.9700e+02, 3.0900e+02,\n",
              "         1.9000e+02, 1.0300e+02, 5.8000e+01, 2.0000e+01, 1.4000e+01,\n",
              "         1.0000e+01, 3.0000e+00, 3.0000e+00, 0.0000e+00, 2.0000e+00,\n",
              "         0.0000e+00, 1.0000e+00, 0.0000e+00, 1.0000e+00, 1.0000e+00]]),\n",
              " array([-0.42706166, -0.40830706, -0.38955247, -0.37079788, -0.35204328,\n",
              "        -0.33328869, -0.31453409, -0.2957795 , -0.27702491, -0.25827031,\n",
              "        -0.23951572, -0.22076112, -0.20200653, -0.18325194, -0.16449734,\n",
              "        -0.14574275, -0.12698815, -0.10823356, -0.08947897, -0.07072437,\n",
              "        -0.05196978, -0.03321519, -0.01446059,  0.004294  ,  0.0230486 ,\n",
              "         0.04180319,  0.06055778,  0.07931238,  0.09806697,  0.11682157,\n",
              "         0.13557616,  0.15433075,  0.17308535,  0.19183994,  0.21059453,\n",
              "         0.22934913,  0.24810372,  0.26685832,  0.28561291,  0.3043675 ,\n",
              "         0.3231221 ,  0.34187669,  0.36063129,  0.37938588,  0.39814047,\n",
              "         0.41689507,  0.43564966,  0.45440426,  0.47315885,  0.49191344,\n",
              "         0.51066804]),\n",
              " <a list of 2 Lists of Patches objects>)"
            ]
          },
          "metadata": {},
          "execution_count": 11
        },
        {
          "output_type": "display_data",
          "data": {
            "image/png": "[encoded data removed]",
            "text/plain": [
              "<Figure size 432x288 with 1 Axes>"
            ]
          },
          "metadata": {
            "needs_background": "light"
          }
        }
      ]
    },
    {
      "cell_type": "markdown",
      "metadata": {
        "id": "XyFG9CHLnVZI"
      },
      "source": [
        "\n"
      ]
    }
  ]
}